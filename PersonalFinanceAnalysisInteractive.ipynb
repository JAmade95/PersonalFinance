{
 "cells": [
  {
   "cell_type": "code",
   "execution_count": 8,
   "id": "f6695e31",
   "metadata": {},
   "outputs": [
    {
     "data": {
      "application/vnd.jupyter.widget-view+json": {
       "model_id": "fa74f5a488f14c158e4ab043d51c8727",
       "version_major": 2,
       "version_minor": 0
      },
      "text/plain": [
       "interactive(children=(Dropdown(description='Account:', options=('Platinum Card', 'Checking', 'Silver Card'), v…"
      ]
     },
     "metadata": {},
     "output_type": "display_data"
    },
    {
     "data": {
      "text/plain": [
       "<function __main__.update_analysis(selected_account)>"
      ]
     },
     "execution_count": 8,
     "metadata": {},
     "output_type": "execute_result"
    }
   ],
   "source": [
    "import pandas as pd\n",
    "import matplotlib.pyplot as plt\n",
    "import ipywidgets as widgets\n",
    "\n",
    "# Load your CSV data \n",
    "df = pd.read_csv(\"Data/archive (3)/personal_transactions.csv\")\n",
    "\n",
    "# Handle missing values\n",
    "df.isnull().sum()  \n",
    "# ... address missing values as needed ...\n",
    "\n",
    "# Ensure correct date format\n",
    "df['Date'] = pd.to_datetime(df['Date']) \n",
    "\n",
    "# Dropdown for account selection\n",
    "account_dropdown = widgets.Dropdown(\n",
    "    options=df['Account Name'].unique(),\n",
    "    description='Account:',\n",
    ")\n",
    "\n",
    "def update_analysis(selected_account):\n",
    "    \"\"\"\n",
    "    Filters the data based on the selected account and generates visualizations.\n",
    "\n",
    "    Args:\n",
    "        selected_account (str): The name of the account to analyze.\n",
    "    \"\"\" \n",
    "\n",
    "    filtered_df = df[df['Account Name'] == selected_account]\n",
    "\n",
    "    # **Pie Chart: Spending Distribution Across Categories**\n",
    "    total_category_spending = filtered_df.groupby('Category')['Amount'].sum()\n",
    "    total_category_spending.plot(kind='pie', autopct='%1.1f%%', figsize=(8, 6))\n",
    "    plt.title(f\"Category Spending Breakdown for {selected_account}\")\n",
    "    plt.show()\n",
    "\n",
    "    # **Line Plot: Spending Trend Over Time**\n",
    "    # (You can add category, date filter dropdowns, etc., for this plot separately)\n",
    "    filtered_df.groupby(df['Date'].dt.to_period('M'))['Amount'].sum().plot()\n",
    "    plt.title(f\"Spending Trend Over Time ({selected_account})\")\n",
    "    plt.show()\n",
    "\n",
    "# Connect dropdown to the analysis update function\n",
    "widgets.interact(update_analysis, selected_account=account_dropdown)\n"
   ]
  },
  {
   "cell_type": "code",
   "execution_count": null,
   "id": "03777feb",
   "metadata": {},
   "outputs": [],
   "source": []
  },
  {
   "cell_type": "code",
   "execution_count": null,
   "id": "6904fb69",
   "metadata": {},
   "outputs": [],
   "source": []
  }
 ],
 "metadata": {
  "kernelspec": {
   "display_name": "Python 3 (ipykernel)",
   "language": "python",
   "name": "python3"
  },
  "language_info": {
   "codemirror_mode": {
    "name": "ipython",
    "version": 3
   },
   "file_extension": ".py",
   "mimetype": "text/x-python",
   "name": "python",
   "nbconvert_exporter": "python",
   "pygments_lexer": "ipython3",
   "version": "3.10.9"
  }
 },
 "nbformat": 4,
 "nbformat_minor": 5
}
